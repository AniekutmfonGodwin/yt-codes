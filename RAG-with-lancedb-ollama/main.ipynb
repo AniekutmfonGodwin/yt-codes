{
 "cells": [
  {
   "cell_type": "markdown",
   "metadata": {},
   "source": [
    "# Building a Banking Customer Service Chatbot with LanceDB and Ollama\n",
    "\n",
    "In this notebook, we are building a customer service chatbot for banking using LanceDB and Ollama. The chatbot is designed to provide efficient and professional responses to customer inquiries.\n",
    "\n",
    "We are using the **Bitext Retail Banking LLM Chatbot Training Dataset** from Hugging Face to train and set up a Retrieval-Augmented Generation (RAG) system. This dataset contains instructions, intents, responses, and other relevant fields to help the chatbot understand and respond to user queries effectively.\n",
    "\n",
    "The workflow includes:\n",
    "1. Loading the Bitext dataset.\n",
    "2. Embedding the data using Ollama's embedding model.\n",
    "3. Storing the data in LanceDB with a defined schema.\n",
    "4. Setting up a RAG pipeline to retrieve relevant context for user queries.\n",
    "5. Using the retrieved context to generate accurate and empathetic responses.\n",
    "\n",
    "This approach ensures the chatbot is both contextually aware and capable of handling a wide range of banking-related queries."
   ]
  },
  {
   "cell_type": "code",
   "execution_count": 2,
   "metadata": {},
   "outputs": [],
   "source": [
    "import ollama\n",
    "import pandas as pd\n",
    "import lancedb\n",
    "import time\n",
    "from lancedb.pydantic import LanceModel, Vector\n",
    "from lancedb.embeddings import EmbeddingFunctionRegistry\n",
    "from utils import view"
   ]
  },
  {
   "cell_type": "code",
   "execution_count": 3,
   "metadata": {},
   "outputs": [],
   "source": [
    "df = pd.read_csv(\"data/bitext-retail-banking-llm-chatbot-training-dataset.csv\")\n",
    "# download data from https://huggingface.co/datasets/bitext/Bitext-retail-banking-llm-chatbot-training-dataset/tree/main"
   ]
  },
  {
   "cell_type": "code",
   "execution_count": 28,
   "metadata": {},
   "outputs": [
    {
     "data": {
      "text/plain": [
       "tags                                                       BCIPZ\n",
       "instruction     I would like to acivate a card, can you help me?\n",
       "category                                                    CARD\n",
       "intent                                             activate_card\n",
       "response       I'm here to assist you with that! Activating y...\n",
       "Name: 0, dtype: object"
      ]
     },
     "execution_count": 28,
     "metadata": {},
     "output_type": "execute_result"
    }
   ],
   "source": [
    "df.iloc[0]"
   ]
  },
  {
   "cell_type": "code",
   "execution_count": 5,
   "metadata": {},
   "outputs": [],
   "source": [
    "registry = EmbeddingFunctionRegistry.get_instance()\n",
    "embedder = registry.get(\"ollama\").create(name=\"mxbai-embed-large\")"
   ]
  },
  {
   "cell_type": "code",
   "execution_count": 6,
   "metadata": {},
   "outputs": [],
   "source": [
    "class DataSchema(LanceModel):\n",
    "  instruction: str = embedder.SourceField()\n",
    "  vector: Vector(embedder.ndims()) = embedder.VectorField()\n",
    "  category: str\n",
    "  intent: str\n",
    "  response: str\n",
    "  tags:str"
   ]
  },
  {
   "cell_type": "code",
   "execution_count": 8,
   "metadata": {},
   "outputs": [],
   "source": [
    "db = lancedb.connect(\"./lancedb\")\n",
    "\n",
    "query_table = db.create_table(\"queries\", schema=DataSchema,mode=\"overwrite\")"
   ]
  },
  {
   "cell_type": "code",
   "execution_count": 9,
   "metadata": {},
   "outputs": [
    {
     "name": "stdout",
     "output_type": "stream",
     "text": [
      "CPU times: user 48.8 s, sys: 7.33 s, total: 56.2 s\n",
      "Wall time: 16min 11s\n"
     ]
    }
   ],
   "source": [
    "%%time\n",
    "query_table.add(df)"
   ]
  },
  {
   "cell_type": "code",
   "execution_count": 29,
   "metadata": {},
   "outputs": [
    {
     "data": {
      "text/plain": [
       "instruction     I would like to acivate a card, can you help me?\n",
       "vector         [-0.29672346, -0.24280721, -0.32037482, 0.2291...\n",
       "category                                                    CARD\n",
       "intent                                             activate_card\n",
       "response       I'm here to assist you with that! Activating y...\n",
       "tags                                                       BCIPZ\n",
       "Name: 0, dtype: object"
      ]
     },
     "execution_count": 29,
     "metadata": {},
     "output_type": "execute_result"
    }
   ],
   "source": [
    "query_table.to_pandas().iloc[0]"
   ]
  },
  {
   "cell_type": "code",
   "execution_count": 31,
   "metadata": {},
   "outputs": [
    {
     "name": "stdout",
     "output_type": "stream",
     "text": [
      "\u001b[1m[\u001b[0m\n",
      "    \u001b[1;35mDataSchema\u001b[0m\u001b[1m(\u001b[0m\n",
      "        \u001b[33minstruction\u001b[0m=\u001b[32m'I got to activaste a card, could I get some help?'\u001b[0m,\n",
      "        \u001b[33mvector\u001b[0m=\u001b[1;35mFixedSizeList\u001b[0m\u001b[1m(\u001b[0m\u001b[33mdim\u001b[0m=\u001b[1;36m1024\u001b[0m\u001b[1m)\u001b[0m,\n",
      "        \u001b[33mcategory\u001b[0m=\u001b[32m'CARD'\u001b[0m,\n",
      "        \u001b[33mintent\u001b[0m=\u001b[32m'activate_card'\u001b[0m,\n",
      "        \u001b[33mresponse\u001b[0m=\u001b[32m'I\\'m here to assist you with activating your card. Activating a card is a simple process. Please \u001b[0m\n",
      "\u001b[32mfollow the steps below:\\n\\n1. Visit our website at \u001b[0m\u001b[32m{\u001b[0m\u001b[32m{\u001b[0m\u001b[32mCompany Website URL\u001b[0m\u001b[32m}\u001b[0m\u001b[32m}\u001b[0m\u001b[32m.\\n2. Log in to your account using your \u001b[0m\n",
      "\u001b[32mcredentials. If you don\\'t have an account yet, you can create one by clicking on the \"Sign Up\" button.\\n3. Once \u001b[0m\n",
      "\u001b[32myou\\'re logged in, navigate to the \"Cards\" or \"Account\" section.\\n4. Look for the option to activate your card. It \u001b[0m\n",
      "\u001b[32mmight be labeled as \"Activate Card\" or something similar.\\n5. Click on the activation link and follow the prompts \u001b[0m\n",
      "\u001b[32mto complete the activation process.\\n6. If you encounter any difficulties or have any questions along the way, feel\u001b[0m\n",
      "\u001b[32mfree to reach out to our customer support team. They are available \u001b[0m\u001b[32m{\u001b[0m\u001b[32m{\u001b[0m\u001b[32mCustomer Support Working Hours\u001b[0m\u001b[32m}\u001b[0m\u001b[32m}\u001b[0m\u001b[32m at \u001b[0m\u001b[32m{\u001b[0m\u001b[32m{\u001b[0m\u001b[32mCustomer\u001b[0m\n",
      "\u001b[32mSupport Phone Number\u001b[0m\u001b[32m}\u001b[0m\u001b[32m}\u001b[0m\u001b[32m or through the Live Chat on our website at \u001b[0m\u001b[32m{\u001b[0m\u001b[32m{\u001b[0m\u001b[32mCompany Website URL\u001b[0m\u001b[32m}\u001b[0m\u001b[32m}\u001b[0m\u001b[32m.\\n\\nCongratulations on \u001b[0m\n",
      "\u001b[32myour new card! If you have any other questions or need further assistance, please let me know.'\u001b[0m,\n",
      "        \u001b[33mtags\u001b[0m=\u001b[32m'BCIPZ'\u001b[0m\n",
      "    \u001b[1m)\u001b[0m,\n",
      "    \u001b[1;35mDataSchema\u001b[0m\u001b[1m(\u001b[0m\n",
      "        \u001b[33minstruction\u001b[0m=\u001b[32m'what to do if i cannot find my card'\u001b[0m,\n",
      "        \u001b[33mvector\u001b[0m=\u001b[1;35mFixedSizeList\u001b[0m\u001b[1m(\u001b[0m\u001b[33mdim\u001b[0m=\u001b[1;36m1024\u001b[0m\u001b[1m)\u001b[0m,\n",
      "        \u001b[33mcategory\u001b[0m=\u001b[32m'CARD'\u001b[0m,\n",
      "        \u001b[33mintent\u001b[0m=\u001b[32m'block_card'\u001b[0m,\n",
      "        \u001b[33mresponse\u001b[0m=\u001b[32m\"I\u001b[0m\u001b[32m'm sorry to hear that you cannot find your card. I can assist you with that. Here's what you can\u001b[0m\n",
      "\u001b[32mdo:\\n\\n1. Stay calm and don't panic. It's essential to keep a clear head in such situations.\\n2. Double-check all \u001b[0m\n",
      "\u001b[32myour personal belongings and common places where you usually keep your card, like your wallet or purse.\\n3. If you \u001b[0m\n",
      "\u001b[32mstill can't find your card, promptly notify your bank or the card issuer. They will guide you through the next \u001b[0m\n",
      "\u001b[32msteps, such as blocking your card to prevent any unauthorized use.\\n4. You can reach out to their customer support \u001b[0m\n",
      "\u001b[32mthrough their helpline \u001b[0m\u001b[32m{\u001b[0m\u001b[32m{\u001b[0m\u001b[32mCustomer Support Phone Number\u001b[0m\u001b[32m}\u001b[0m\u001b[32m}\u001b[0m\u001b[32m or check their website for specific instructions on \u001b[0m\n",
      "\u001b[32mreporting a lost or stolen card.\\n5. Once your card is blocked, the bank or card issuer will assist you in getting \u001b[0m\n",
      "\u001b[32ma replacement card.\\n\\nRemember, it's crucial to act quickly to prevent any potential misuse of your card. If you \u001b[0m\n",
      "\u001b[32mneed further assistance or have any questions, feel free to let me know.\"\u001b[0m,\n",
      "        \u001b[33mtags\u001b[0m=\u001b[32m'BEIQ'\u001b[0m\n",
      "    \u001b[1m)\u001b[0m,\n",
      "    \u001b[1;35mDataSchema\u001b[0m\u001b[1m(\u001b[0m\n",
      "        \u001b[33minstruction\u001b[0m=\u001b[32m'i need help to cacnel a card'\u001b[0m,\n",
      "        \u001b[33mvector\u001b[0m=\u001b[1;35mFixedSizeList\u001b[0m\u001b[1m(\u001b[0m\u001b[33mdim\u001b[0m=\u001b[1;36m1024\u001b[0m\u001b[1m)\u001b[0m,\n",
      "        \u001b[33mcategory\u001b[0m=\u001b[32m'CARD'\u001b[0m,\n",
      "        \u001b[33mintent\u001b[0m=\u001b[32m'cancel_card'\u001b[0m,\n",
      "        \u001b[33mresponse\u001b[0m=\u001b[32m\"I\u001b[0m\u001b[32m'm here to help you with canceling your card. To proceed with the cancellation, please follow \u001b[0m\n",
      "\u001b[32mthese steps:\\n\\n1. Contact our customer support team at \u001b[0m\u001b[32m{\u001b[0m\u001b[32m{\u001b[0m\u001b[32mCustomer Support Phone Number\u001b[0m\u001b[32m}\u001b[0m\u001b[32m}\u001b[0m\u001b[32m or visit our website at \u001b[0m\n",
      "\u001b[32m{\u001b[0m\u001b[32m{\u001b[0m\u001b[32mCompany Website URL\u001b[0m\u001b[32m}\u001b[0m\u001b[32m}\u001b[0m\u001b[32m to initiate the cancellation process.\\n2. Provide the necessary information, such as your \u001b[0m\n",
      "\u001b[32maccount details and the card you want to cancel.\\n3. Our customer support representative will guide you through the\u001b[0m\n",
      "\u001b[32mcancellation process and help you complete it smoothly.\\n\\nIf you have any other questions or need further \u001b[0m\n",
      "\u001b[32massistance, please feel free to let me know.\"\u001b[0m,\n",
      "        \u001b[33mtags\u001b[0m=\u001b[32m'BQZ'\u001b[0m\n",
      "    \u001b[1m)\u001b[0m,\n",
      "    \u001b[1;35mDataSchema\u001b[0m\u001b[1m(\u001b[0m\n",
      "        \u001b[33minstruction\u001b[0m=\u001b[32m'what to do if i cant find my card'\u001b[0m,\n",
      "        \u001b[33mvector\u001b[0m=\u001b[1;35mFixedSizeList\u001b[0m\u001b[1m(\u001b[0m\u001b[33mdim\u001b[0m=\u001b[1;36m1024\u001b[0m\u001b[1m)\u001b[0m,\n",
      "        \u001b[33mcategory\u001b[0m=\u001b[32m'CARD'\u001b[0m,\n",
      "        \u001b[33mintent\u001b[0m=\u001b[32m'block_card'\u001b[0m,\n",
      "        \u001b[33mresponse\u001b[0m=\u001b[32m\"I\u001b[0m\u001b[32m've observed that losing your card can be concerning. I'm here to help you with that. If you \u001b[0m\n",
      "\u001b[32mcan't find your card, it's important to take some immediate steps to protect your account and prevent any \u001b[0m\n",
      "\u001b[32munauthorized charges. Here's what you can do:\\n\\n1. Notify your card issuer: Contact your bank or credit card \u001b[0m\n",
      "\u001b[32mcompany right away to report the situation. They will guide you through the necessary steps and may help you block \u001b[0m\n",
      "\u001b[32myour card.\\n\\n2. Monitor your account: Keep a close eye on your account activity for any unauthorized transactions.\u001b[0m\n",
      "\u001b[32mIf you notice any suspicious activity, report it to your card issuer immediately.\\n\\n3. Consider temporary \u001b[0m\n",
      "\u001b[32mblocking: While you're in the process of finding your card or waiting for a replacement, you might want to \u001b[0m\n",
      "\u001b[32mtemporarily block your card. Many banks offer the option to do this through their mobile apps or online banking \u001b[0m\n",
      "\u001b[32mplatforms.\\n\\n4. Request a replacement card: If your search for the card turns out to be unsuccessful, contact your\u001b[0m\n",
      "\u001b[32mcard issuer to request a replacement card. They will assist you with the necessary procedures and any associated \u001b[0m\n",
      "\u001b[32mcosts.\\n\\nRemember, it's essential to act quickly to minimize the risk of fraudulent activity. If you have any \u001b[0m\n",
      "\u001b[32mfurther questions or need additional assistance, please let me know.\"\u001b[0m,\n",
      "        \u001b[33mtags\u001b[0m=\u001b[32m'BIQ'\u001b[0m\n",
      "    \u001b[1m)\u001b[0m,\n",
      "    \u001b[1;35mDataSchema\u001b[0m\u001b[1m(\u001b[0m\n",
      "        \u001b[33minstruction\u001b[0m=\u001b[32m'i need help activating a card'\u001b[0m,\n",
      "        \u001b[33mvector\u001b[0m=\u001b[1;35mFixedSizeList\u001b[0m\u001b[1m(\u001b[0m\u001b[33mdim\u001b[0m=\u001b[1;36m1024\u001b[0m\u001b[1m)\u001b[0m,\n",
      "        \u001b[33mcategory\u001b[0m=\u001b[32m'CARD'\u001b[0m,\n",
      "        \u001b[33mintent\u001b[0m=\u001b[32m'activate_card'\u001b[0m,\n",
      "        \u001b[33mresponse\u001b[0m=\u001b[32m\"I\u001b[0m\u001b[32m'm here to assist you with activating your card. Activating a card is a straightforward process.\u001b[0m\n",
      "\u001b[32mHere's what you need to do:\\n\\n1. Locate the activation instructions that came with your card. It's usually a \u001b[0m\n",
      "\u001b[32msticker attached to the card or a separate document.\\n2. Follow the instructions provided, which may include \u001b[0m\n",
      "\u001b[32mvisiting a website or calling a phone number.\\n3. If you need to activate the card online, visit the designated \u001b[0m\n",
      "\u001b[32mactivation website and enter the required details, such as your card number, expiration date, and security \u001b[0m\n",
      "\u001b[32mcode.\\n4. If you need to activate the card by phone, dial the provided activation phone number and follow the \u001b[0m\n",
      "\u001b[32mautomated prompts to activate your card.\\n5. Once the activation process is complete, your card should be ready to \u001b[0m\n",
      "\u001b[32muse.\\n\\nIf you encounter any difficulties during the activation process or have any further questions, please don't\u001b[0m\n",
      "\u001b[32mhesitate to let me know. I'm here to help!\"\u001b[0m,\n",
      "        \u001b[33mtags\u001b[0m=\u001b[32m'BQ'\u001b[0m\n",
      "    \u001b[1m)\u001b[0m\n",
      "\u001b[1m]\u001b[0m\n"
     ]
    },
    {
     "data": {
      "text/html": [
       "<pre style=\"white-space:pre;overflow-x:auto;line-height:normal;font-family:Menlo,'DejaVu Sans Mono',consolas,'Courier New',monospace\"></pre>\n"
      ],
      "text/plain": []
     },
     "metadata": {},
     "output_type": "display_data"
    }
   ],
   "source": [
    "question = \"My card is not working\"\n",
    "rows = (query_table\n",
    "  .search(question)\n",
    "  .limit(5)\n",
    "  .to_pydantic(DataSchema)\n",
    ")\n",
    "\n",
    "view(rows)"
   ]
  },
  {
   "cell_type": "code",
   "execution_count": 32,
   "metadata": {},
   "outputs": [],
   "source": [
    "def transform_data(rows):\n",
    "  return [\n",
    "    {\"instruction\": r.instruction, \"category\": r.category, \"intent\": r.intent,\"response\": r.response,\"tags\":r.tags}  \n",
    "    for r in rows\n",
    "  ]"
   ]
  },
  {
   "cell_type": "code",
   "execution_count": 33,
   "metadata": {},
   "outputs": [
    {
     "name": "stdout",
     "output_type": "stream",
     "text": [
      "\u001b[1m[\u001b[0m\n",
      "    \u001b[1m{\u001b[0m\n",
      "        \u001b[32m'instruction'\u001b[0m: \u001b[32m'I got to activaste a card, could I get some help?'\u001b[0m,\n",
      "        \u001b[32m'category'\u001b[0m: \u001b[32m'CARD'\u001b[0m,\n",
      "        \u001b[32m'intent'\u001b[0m: \u001b[32m'activate_card'\u001b[0m,\n",
      "        \u001b[32m'response'\u001b[0m: \u001b[32m'I\\'m here to assist you with activating your card. Activating a card is a simple process. \u001b[0m\n",
      "\u001b[32mPlease follow the steps below:\\n\\n1. Visit our website at \u001b[0m\u001b[32m{\u001b[0m\u001b[32m{\u001b[0m\u001b[32mCompany Website URL\u001b[0m\u001b[32m}\u001b[0m\u001b[32m}\u001b[0m\u001b[32m.\\n2. Log in to your account using\u001b[0m\n",
      "\u001b[32myour credentials. If you don\\'t have an account yet, you can create one by clicking on the \"Sign Up\" button.\\n3. \u001b[0m\n",
      "\u001b[32mOnce you\\'re logged in, navigate to the \"Cards\" or \"Account\" section.\\n4. Look for the option to activate your \u001b[0m\n",
      "\u001b[32mcard. It might be labeled as \"Activate Card\" or something similar.\\n5. Click on the activation link and follow the \u001b[0m\n",
      "\u001b[32mprompts to complete the activation process.\\n6. If you encounter any difficulties or have any questions along the \u001b[0m\n",
      "\u001b[32mway, feel free to reach out to our customer support team. They are available \u001b[0m\u001b[32m{\u001b[0m\u001b[32m{\u001b[0m\u001b[32mCustomer Support Working Hours\u001b[0m\u001b[32m}\u001b[0m\u001b[32m}\u001b[0m\u001b[32m at \u001b[0m\n",
      "\u001b[32m{\u001b[0m\u001b[32m{\u001b[0m\u001b[32mCustomer Support Phone Number\u001b[0m\u001b[32m}\u001b[0m\u001b[32m}\u001b[0m\u001b[32m or through the Live Chat on our website at \u001b[0m\u001b[32m{\u001b[0m\u001b[32m{\u001b[0m\u001b[32mCompany Website \u001b[0m\n",
      "\u001b[32mURL\u001b[0m\u001b[32m}\u001b[0m\u001b[32m}\u001b[0m\u001b[32m.\\n\\nCongratulations on your new card! If you have any other questions or need further assistance, please let \u001b[0m\n",
      "\u001b[32mme know.'\u001b[0m,\n",
      "        \u001b[32m'tags'\u001b[0m: \u001b[32m'BCIPZ'\u001b[0m\n",
      "    \u001b[1m}\u001b[0m,\n",
      "    \u001b[1m{\u001b[0m\n",
      "        \u001b[32m'instruction'\u001b[0m: \u001b[32m'what to do if i cannot find my card'\u001b[0m,\n",
      "        \u001b[32m'category'\u001b[0m: \u001b[32m'CARD'\u001b[0m,\n",
      "        \u001b[32m'intent'\u001b[0m: \u001b[32m'block_card'\u001b[0m,\n",
      "        \u001b[32m'response'\u001b[0m: \u001b[32m\"I'm sorry to hear that you cannot find your card. I can assist you with that. Here's what you \u001b[0m\n",
      "\u001b[32mcan do:\\n\\n1. Stay calm and don't panic. It's essential to keep a clear head in such situations.\\n2. Double-check \u001b[0m\n",
      "\u001b[32mall your personal belongings and common places where you usually keep your card, like your wallet or purse.\\n3. If \u001b[0m\n",
      "\u001b[32myou still can't find your card, promptly notify your bank or the card issuer. They will guide you through the next \u001b[0m\n",
      "\u001b[32msteps, such as blocking your card to prevent any unauthorized use.\\n4. You can reach out to their customer support \u001b[0m\n",
      "\u001b[32mthrough their helpline \u001b[0m\u001b[32m{\u001b[0m\u001b[32m{\u001b[0m\u001b[32mCustomer Support Phone Number\u001b[0m\u001b[32m}\u001b[0m\u001b[32m}\u001b[0m\u001b[32m or check their website for specific instructions on \u001b[0m\n",
      "\u001b[32mreporting a lost or stolen card.\\n5. Once your card is blocked, the bank or card issuer will assist you in getting \u001b[0m\n",
      "\u001b[32ma replacement card.\\n\\nRemember, it's crucial to act quickly to prevent any potential misuse of your card. If you \u001b[0m\n",
      "\u001b[32mneed further assistance or have any questions, feel free to let me know.\"\u001b[0m,\n",
      "        \u001b[32m'tags'\u001b[0m: \u001b[32m'BEIQ'\u001b[0m\n",
      "    \u001b[1m}\u001b[0m,\n",
      "    \u001b[1m{\u001b[0m\n",
      "        \u001b[32m'instruction'\u001b[0m: \u001b[32m'i need help to cacnel a card'\u001b[0m,\n",
      "        \u001b[32m'category'\u001b[0m: \u001b[32m'CARD'\u001b[0m,\n",
      "        \u001b[32m'intent'\u001b[0m: \u001b[32m'cancel_card'\u001b[0m,\n",
      "        \u001b[32m'response'\u001b[0m: \u001b[32m\"I'm here to help you with canceling your card. To proceed with the cancellation, please follow\u001b[0m\n",
      "\u001b[32mthese steps:\\n\\n1. Contact our customer support team at \u001b[0m\u001b[32m{\u001b[0m\u001b[32m{\u001b[0m\u001b[32mCustomer Support Phone Number\u001b[0m\u001b[32m}\u001b[0m\u001b[32m}\u001b[0m\u001b[32m or visit our website at \u001b[0m\n",
      "\u001b[32m{\u001b[0m\u001b[32m{\u001b[0m\u001b[32mCompany Website URL\u001b[0m\u001b[32m}\u001b[0m\u001b[32m}\u001b[0m\u001b[32m to initiate the cancellation process.\\n2. Provide the necessary information, such as your \u001b[0m\n",
      "\u001b[32maccount details and the card you want to cancel.\\n3. Our customer support representative will guide you through the\u001b[0m\n",
      "\u001b[32mcancellation process and help you complete it smoothly.\\n\\nIf you have any other questions or need further \u001b[0m\n",
      "\u001b[32massistance, please feel free to let me know.\"\u001b[0m,\n",
      "        \u001b[32m'tags'\u001b[0m: \u001b[32m'BQZ'\u001b[0m\n",
      "    \u001b[1m}\u001b[0m,\n",
      "    \u001b[1m{\u001b[0m\n",
      "        \u001b[32m'instruction'\u001b[0m: \u001b[32m'what to do if i cant find my card'\u001b[0m,\n",
      "        \u001b[32m'category'\u001b[0m: \u001b[32m'CARD'\u001b[0m,\n",
      "        \u001b[32m'intent'\u001b[0m: \u001b[32m'block_card'\u001b[0m,\n",
      "        \u001b[32m'response'\u001b[0m: \u001b[32m\"I've observed that losing your card can be concerning. I'm here to help you with that. If you \u001b[0m\n",
      "\u001b[32mcan't find your card, it's important to take some immediate steps to protect your account and prevent any \u001b[0m\n",
      "\u001b[32munauthorized charges. Here's what you can do:\\n\\n1. Notify your card issuer: Contact your bank or credit card \u001b[0m\n",
      "\u001b[32mcompany right away to report the situation. They will guide you through the necessary steps and may help you block \u001b[0m\n",
      "\u001b[32myour card.\\n\\n2. Monitor your account: Keep a close eye on your account activity for any unauthorized transactions.\u001b[0m\n",
      "\u001b[32mIf you notice any suspicious activity, report it to your card issuer immediately.\\n\\n3. Consider temporary \u001b[0m\n",
      "\u001b[32mblocking: While you're in the process of finding your card or waiting for a replacement, you might want to \u001b[0m\n",
      "\u001b[32mtemporarily block your card. Many banks offer the option to do this through their mobile apps or online banking \u001b[0m\n",
      "\u001b[32mplatforms.\\n\\n4. Request a replacement card: If your search for the card turns out to be unsuccessful, contact your\u001b[0m\n",
      "\u001b[32mcard issuer to request a replacement card. They will assist you with the necessary procedures and any associated \u001b[0m\n",
      "\u001b[32mcosts.\\n\\nRemember, it's essential to act quickly to minimize the risk of fraudulent activity. If you have any \u001b[0m\n",
      "\u001b[32mfurther questions or need additional assistance, please let me know.\"\u001b[0m,\n",
      "        \u001b[32m'tags'\u001b[0m: \u001b[32m'BIQ'\u001b[0m\n",
      "    \u001b[1m}\u001b[0m,\n",
      "    \u001b[1m{\u001b[0m\n",
      "        \u001b[32m'instruction'\u001b[0m: \u001b[32m'i need help activating a card'\u001b[0m,\n",
      "        \u001b[32m'category'\u001b[0m: \u001b[32m'CARD'\u001b[0m,\n",
      "        \u001b[32m'intent'\u001b[0m: \u001b[32m'activate_card'\u001b[0m,\n",
      "        \u001b[32m'response'\u001b[0m: \u001b[32m\"I'm here to assist you with activating your card. Activating a card is a straightforward \u001b[0m\n",
      "\u001b[32mprocess. Here's what you need to do:\\n\\n1. Locate the activation instructions that came with your card. It's \u001b[0m\n",
      "\u001b[32musually a sticker attached to the card or a separate document.\\n2. Follow the instructions provided, which may \u001b[0m\n",
      "\u001b[32minclude visiting a website or calling a phone number.\\n3. If you need to activate the card online, visit the \u001b[0m\n",
      "\u001b[32mdesignated activation website and enter the required details, such as your card number, expiration date, and \u001b[0m\n",
      "\u001b[32msecurity code.\\n4. If you need to activate the card by phone, dial the provided activation phone number and follow \u001b[0m\n",
      "\u001b[32mthe automated prompts to activate your card.\\n5. Once the activation process is complete, your card should be ready\u001b[0m\n",
      "\u001b[32mto use.\\n\\nIf you encounter any difficulties during the activation process or have any further questions, please \u001b[0m\n",
      "\u001b[32mdon't hesitate to let me know. I'm here to help!\"\u001b[0m,\n",
      "        \u001b[32m'tags'\u001b[0m: \u001b[32m'BQ'\u001b[0m\n",
      "    \u001b[1m}\u001b[0m\n",
      "\u001b[1m]\u001b[0m\n"
     ]
    },
    {
     "data": {
      "text/html": [
       "<pre style=\"white-space:pre;overflow-x:auto;line-height:normal;font-family:Menlo,'DejaVu Sans Mono',consolas,'Courier New',monospace\"></pre>\n"
      ],
      "text/plain": []
     },
     "metadata": {},
     "output_type": "display_data"
    }
   ],
   "source": [
    "view(transform_data(rows))"
   ]
  },
  {
   "cell_type": "code",
   "execution_count": 16,
   "metadata": {},
   "outputs": [],
   "source": [
    "SYSTEM = \"\"\"\n",
    "You are a professional, friendly, and knowledgeable customer service representative for Anies Bank, a retail banking institution. Your goal is to assist users efficiently while maintaining a warm and approachable tone. Provide clear, concise, and accurate responses to customer inquiries, ensuring their concerns are addressed with empathy and professionalism.\n",
    "\n",
    "Guidelines:  \n",
    "- Be polite and welcoming, using a professional yet friendly tone.  \n",
    "- Provide factually accurate and easy-to-understand answers.  \n",
    "- Assist with common banking queries such as account setup, transaction disputes, loan inquiries, security concerns, and payment issues.  \n",
    "- Acknowledge complaints with empathy and offer solutions or escalate when necessary.  \n",
    "- Never request sensitive information like passwords or PINs. Instead, guide users to official security procedures.  \n",
    "- Escalate complex issues when required and set clear response time expectations.\n",
    "\n",
    "Example responses:  \n",
    "\n",
    "User: \"I was charged twice for a transaction. What should I do?\"  \n",
    "AI: \"I’m sorry for the trouble! If you've been charged twice, please check your transaction history. If it's a duplicate, you can dispute it in [Dispute Center]. Let me know if you need further assistance!\"  \n",
    "\n",
    "User: \"I think someone hacked my account!\"  \n",
    "AI: \"That sounds serious! Please reset your password immediately and enable two-factor authentication. If you notice unauthorized transactions, contact our fraud team at [support@email.com] or [hotline]. Let me know if you need more help!\"  \n",
    "\n",
    "User: \"How can I apply for a loan?\"  \n",
    "AI: \"You can apply for a loan by visiting the 'Loans' section in our mobile app or website. You'll find all the details about loan types, interest rates, and eligibility criteria. Let me know if you need help with the application process!\"  \n",
    "\n",
    "\"\"\""
   ]
  },
  {
   "cell_type": "code",
   "execution_count": 34,
   "metadata": {},
   "outputs": [
    {
     "name": "stdout",
     "output_type": "stream",
     "text": [
      "I'm so sorry to hear that you're having trouble logging in! Can you please tell me a bit more about what's happening? Was there an error message, or did your account lock up on you?\n",
      "\n",
      "Also, just to make sure, I want to remind you that we don't store passwords in plain text here. If you've forgotten your password, the best way to reset it is by using the 'Forgot Password' option on our login page.\n",
      "\n",
      "Would you like me to walk you through the steps to reset your password or help you troubleshoot what might be going on?\n",
      "===============\n",
      "\n"
     ]
    },
    {
     "ename": "TypeError",
     "evalue": "Unsupported query type: <class 'NoneType'>",
     "output_type": "error",
     "traceback": [
      "\u001b[0;31m---------------------------------------------------------------------------\u001b[0m",
      "\u001b[0;31mTypeError\u001b[0m                                 Traceback (most recent call last)",
      "Cell \u001b[0;32mIn[34], line 5\u001b[0m\n\u001b[1;32m      3\u001b[0m \u001b[38;5;28;01mif\u001b[39;00m message\u001b[38;5;241m.\u001b[39mlower() \u001b[38;5;241m==\u001b[39m \u001b[38;5;124m\"\u001b[39m\u001b[38;5;124mexit\u001b[39m\u001b[38;5;124m\"\u001b[39m:\n\u001b[1;32m      4\u001b[0m   \u001b[38;5;28;01mbreak\u001b[39;00m\n\u001b[0;32m----> 5\u001b[0m rows \u001b[38;5;241m=\u001b[39m (\u001b[43mquery_table\u001b[49m\u001b[38;5;241;43m.\u001b[39;49m\u001b[43msearch\u001b[49m\u001b[43m(\u001b[49m\u001b[43mmessage\u001b[49m\u001b[43m)\u001b[49m\u001b[38;5;241m.\u001b[39mlimit(\u001b[38;5;241m20\u001b[39m)\u001b[38;5;241m.\u001b[39mto_pydantic(DataSchema))\n\u001b[1;32m      6\u001b[0m context \u001b[38;5;241m=\u001b[39m transform_data(rows)\n\u001b[1;32m      7\u001b[0m stream \u001b[38;5;241m=\u001b[39m ollama\u001b[38;5;241m.\u001b[39mchat(\n\u001b[1;32m      8\u001b[0m   model\u001b[38;5;241m=\u001b[39m\u001b[38;5;124m\"\u001b[39m\u001b[38;5;124mllama3.2\u001b[39m\u001b[38;5;124m\"\u001b[39m, stream\u001b[38;5;241m=\u001b[39m\u001b[38;5;28;01mTrue\u001b[39;00m,\n\u001b[1;32m      9\u001b[0m   messages \u001b[38;5;241m=\u001b[39m [\n\u001b[0;32m   (...)\u001b[0m\n\u001b[1;32m     13\u001b[0m   ]\n\u001b[1;32m     14\u001b[0m )\n",
      "File \u001b[0;32m~/Desktop/youtube-content/codes/RAG-with-lancedb-ollama/env/lib/python3.10/site-packages/lancedb/table.py:2114\u001b[0m, in \u001b[0;36mLanceTable.search\u001b[0;34m(self, query, vector_column_name, query_type, ordering_field_name, fts_columns)\u001b[0m\n\u001b[1;32m   2041\u001b[0m \u001b[38;5;250m\u001b[39m\u001b[38;5;124;03m\"\"\"Create a search query to find the nearest neighbors\u001b[39;00m\n\u001b[1;32m   2042\u001b[0m \u001b[38;5;124;03mof the given query vector. We currently support [vector search][search]\u001b[39;00m\n\u001b[1;32m   2043\u001b[0m \u001b[38;5;124;03mand [full-text search][search].\u001b[39;00m\n\u001b[0;32m   (...)\u001b[0m\n\u001b[1;32m   2105\u001b[0m \u001b[38;5;124;03m    vector and the returned vector.\u001b[39;00m\n\u001b[1;32m   2106\u001b[0m \u001b[38;5;124;03m\"\"\"\u001b[39;00m\n\u001b[1;32m   2107\u001b[0m vector_column_name \u001b[38;5;241m=\u001b[39m infer_vector_column_name(\n\u001b[1;32m   2108\u001b[0m     schema\u001b[38;5;241m=\u001b[39m\u001b[38;5;28mself\u001b[39m\u001b[38;5;241m.\u001b[39mschema,\n\u001b[1;32m   2109\u001b[0m     query_type\u001b[38;5;241m=\u001b[39mquery_type,\n\u001b[1;32m   2110\u001b[0m     query\u001b[38;5;241m=\u001b[39mquery,\n\u001b[1;32m   2111\u001b[0m     vector_column_name\u001b[38;5;241m=\u001b[39mvector_column_name,\n\u001b[1;32m   2112\u001b[0m )\n\u001b[0;32m-> 2114\u001b[0m \u001b[38;5;28;01mreturn\u001b[39;00m \u001b[43mLanceQueryBuilder\u001b[49m\u001b[38;5;241;43m.\u001b[39;49m\u001b[43mcreate\u001b[49m\u001b[43m(\u001b[49m\n\u001b[1;32m   2115\u001b[0m \u001b[43m    \u001b[49m\u001b[38;5;28;43mself\u001b[39;49m\u001b[43m,\u001b[49m\n\u001b[1;32m   2116\u001b[0m \u001b[43m    \u001b[49m\u001b[43mquery\u001b[49m\u001b[43m,\u001b[49m\n\u001b[1;32m   2117\u001b[0m \u001b[43m    \u001b[49m\u001b[43mquery_type\u001b[49m\u001b[43m,\u001b[49m\n\u001b[1;32m   2118\u001b[0m \u001b[43m    \u001b[49m\u001b[43mvector_column_name\u001b[49m\u001b[38;5;241;43m=\u001b[39;49m\u001b[43mvector_column_name\u001b[49m\u001b[43m,\u001b[49m\n\u001b[1;32m   2119\u001b[0m \u001b[43m    \u001b[49m\u001b[43mordering_field_name\u001b[49m\u001b[38;5;241;43m=\u001b[39;49m\u001b[43mordering_field_name\u001b[49m\u001b[43m,\u001b[49m\n\u001b[1;32m   2120\u001b[0m \u001b[43m    \u001b[49m\u001b[43mfts_columns\u001b[49m\u001b[38;5;241;43m=\u001b[39;49m\u001b[43mfts_columns\u001b[49m\u001b[43m \u001b[49m\u001b[38;5;129;43;01mor\u001b[39;49;00m\u001b[43m \u001b[49m\u001b[43m[\u001b[49m\u001b[43m]\u001b[49m\u001b[43m,\u001b[49m\n\u001b[1;32m   2121\u001b[0m \u001b[43m\u001b[49m\u001b[43m)\u001b[49m\n",
      "File \u001b[0;32m~/Desktop/youtube-content/codes/RAG-with-lancedb-ollama/env/lib/python3.10/site-packages/lancedb/query.py:374\u001b[0m, in \u001b[0;36mLanceQueryBuilder.create\u001b[0;34m(cls, table, query, query_type, vector_column_name, ordering_field_name, fts_columns, fast_search)\u001b[0m\n\u001b[1;32m    372\u001b[0m     query \u001b[38;5;241m=\u001b[39m query\u001b[38;5;241m.\u001b[39mastype(np\u001b[38;5;241m.\u001b[39mfloat32)\n\u001b[1;32m    373\u001b[0m \u001b[38;5;28;01melse\u001b[39;00m:\n\u001b[0;32m--> 374\u001b[0m     \u001b[38;5;28;01mraise\u001b[39;00m \u001b[38;5;167;01mTypeError\u001b[39;00m(\u001b[38;5;124mf\u001b[39m\u001b[38;5;124m\"\u001b[39m\u001b[38;5;124mUnsupported query type: \u001b[39m\u001b[38;5;132;01m{\u001b[39;00m\u001b[38;5;28mtype\u001b[39m(query)\u001b[38;5;132;01m}\u001b[39;00m\u001b[38;5;124m\"\u001b[39m)\n\u001b[1;32m    376\u001b[0m \u001b[38;5;28;01mreturn\u001b[39;00m LanceVectorQueryBuilder(\n\u001b[1;32m    377\u001b[0m     table, query, vector_column_name, str_query, fast_search\n\u001b[1;32m    378\u001b[0m )\n",
      "\u001b[0;31mTypeError\u001b[0m: Unsupported query type: <class 'NoneType'>"
     ]
    }
   ],
   "source": [
    "while True:\n",
    "  message = input(\"Message: \")\n",
    "  if message.lower() == \"exit\":\n",
    "    break\n",
    "  rows = (query_table.search(message).limit(20).to_pydantic(DataSchema))\n",
    "  context = transform_data(rows)\n",
    "  stream = ollama.chat(\n",
    "    model=\"llama3.2\", stream=True,\n",
    "    messages = [\n",
    "      { \"role\": \"system\", 'content': SYSTEM},\n",
    "      { \"role\": \"user\", 'content': f\"Here is the relevant context for your query: {context}\"},\n",
    "      { \"role\": \"user\", 'content': f\"My question is: {message}\"}\n",
    "    ]\n",
    "  )\n",
    "  for chunk in stream:\n",
    "    print(chunk['message']['content'], end='', flush=True)\n",
    "  print(\"\\n===============\\n\")"
   ]
  }
 ],
 "metadata": {
  "kernelspec": {
   "display_name": "env",
   "language": "python",
   "name": "python3"
  },
  "language_info": {
   "codemirror_mode": {
    "name": "ipython",
    "version": 3
   },
   "file_extension": ".py",
   "mimetype": "text/x-python",
   "name": "python",
   "nbconvert_exporter": "python",
   "pygments_lexer": "ipython3",
   "version": "3.10.5"
  }
 },
 "nbformat": 4,
 "nbformat_minor": 2
}
